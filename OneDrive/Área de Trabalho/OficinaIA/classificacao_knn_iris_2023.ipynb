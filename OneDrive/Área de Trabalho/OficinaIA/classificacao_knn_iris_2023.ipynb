{
  "nbformat": 4,
  "nbformat_minor": 0,
  "metadata": {
    "colab": {
      "provenance": []
    },
    "kernelspec": {
      "name": "python3",
      "display_name": "Python 3"
    },
    "language_info": {
      "name": "python"
    }
  },
  "cells": [
    {
      "cell_type": "code",
      "execution_count": null,
      "metadata": {
        "id": "jTS64v1og1Eu"
      },
      "outputs": [],
      "source": [
        "#importando bibliotecas\n",
        "from sklearn import neighbors, datasets\n",
        "from sklearn.model_selection import train_test_split, cross_val_score, cross_val_predict\n",
        "from sklearn.metrics import confusion_matrix, ConfusionMatrixDisplay, classification_report, accuracy_score\n",
        "import pandas as pd\n",
        "import matplotlib.pyplot as plt"
      ]
    },
    {
      "cell_type": "code",
      "source": [
        "#inicializando o dataset\n",
        "iris = datasets.load_iris()"
      ],
      "metadata": {
        "id": "dnfbX4E7g98r"
      },
      "execution_count": null,
      "outputs": []
    },
    {
      "cell_type": "code",
      "source": [
        "#imprimindo dados do dataset\n",
        "print(iris.data.shape)\n",
        "print(iris.target_names)\n",
        "print(iris.feature_names)"
      ],
      "metadata": {
        "colab": {
          "base_uri": "https://localhost:8080/"
        },
        "id": "xc03R4lapsLk",
        "outputId": "c760f977-4838-4b6d-e27c-53252a1c8a23"
      },
      "execution_count": null,
      "outputs": [
        {
          "output_type": "stream",
          "name": "stdout",
          "text": [
            "(150, 4)\n",
            "['setosa' 'versicolor' 'virginica']\n",
            "['sepal length (cm)', 'sepal width (cm)', 'petal length (cm)', 'petal width (cm)']\n"
          ]
        }
      ]
    },
    {
      "cell_type": "code",
      "source": [
        "#divisão de dados\n",
        "X_train, X_test,  y_train, y_test = train_test_split(iris.data, iris.target, test_size=0.15, random_state=44)"
      ],
      "metadata": {
        "id": "0h-nth6ql3Zr"
      },
      "execution_count": null,
      "outputs": []
    },
    {
      "cell_type": "markdown",
      "source": [
        "Os dados foram divididos em quatro variáveis diferentes:\n",
        "\n",
        "\n",
        "\n",
        "*   X_train: Contém as características das amostras que serão usadas para treinar o modelo.\n",
        "*   X_test: Contém as características das amostras que serão usadas para testar o modelo (avaliar o desempenho do modelo).\n",
        "*   y_train: Contém os rótulos correspondentes às amostras em X_train. Estes são usados durante o treinamento para ensinar o modelo.\n",
        "*   y_test: Contém os rótulos correspondentes às amostras em X_test. Estes são usados para avaliar quão bem o modelo está generalizando para dados não vistos durante o treinamento."
      ],
      "metadata": {
        "id": "3i-ShXdFVTYs"
      }
    },
    {
      "cell_type": "code",
      "source": [
        "#treinamento do modelo\n",
        "clf=neighbors.KNeighborsClassifier(n_neighbors=30, metric=\"manhattan\")\n",
        "clf.fit(X_train, y_train);\n",
        "#ajustando dados\n",
        "result = clf.predict(X_test)\n",
        "print('Acurácia do modelo: ' , (accuracy_score(y_test, result))*100, '%')"
      ],
      "metadata": {
        "id": "cQDW4zyJnzU7",
        "colab": {
          "base_uri": "https://localhost:8080/"
        },
        "outputId": "e6a5ba3f-3f76-424f-ec6d-cb20eb5276f5"
      },
      "execution_count": null,
      "outputs": [
        {
          "output_type": "stream",
          "name": "stdout",
          "text": [
            "Acurácia do modelo:  100.0 %\n"
          ]
        }
      ]
    },
    {
      "cell_type": "markdown",
      "source": [
        "\n",
        "\n",
        "*   O objeto de classificação é criado\n",
        "*   Definição do número de vizinhos que serão considerados no algoritmo\n",
        "*   O modelo é treinado\n",
        "*   O modelo treinado é usado para fazer previsões sobre os dados de teste\n",
        "*   A acurácia do modelo é calculada\n",
        "\n",
        "\n",
        "\n",
        "\n",
        "\n"
      ],
      "metadata": {
        "id": "W_KFTFoHtsQL"
      }
    },
    {
      "cell_type": "code",
      "source": [
        "#previsões nos valores de x\n",
        "print(\"Predict\")\n",
        "print(result)"
      ],
      "metadata": {
        "colab": {
          "base_uri": "https://localhost:8080/"
        },
        "id": "t-CsLT_MEFQC",
        "outputId": "4e3514fe-98cf-4f69-9a65-d12c0ba53447"
      },
      "execution_count": null,
      "outputs": [
        {
          "output_type": "stream",
          "name": "stdout",
          "text": [
            "Predict\n",
            "[2 0 1 1 2 0 2 2 2 1 0 1 0 2 0 0 2 1 0 2 1 2 2 1 2 1 0 1 0 1 0 1 1 2 0 1 0\n",
            " 0 2 1 0 0 2 0 0 2 0 2 1 1]\n"
          ]
        }
      ]
    },
    {
      "cell_type": "markdown",
      "source": [
        "Exibição das previsões feitas pelo modelo"
      ],
      "metadata": {
        "id": "R89hcx5KutOU"
      }
    },
    {
      "cell_type": "code",
      "source": [
        "print(\"Validacao cruzada - porcentagem\")\n",
        "print(cross_val_score(clf, X_train, y_train, cv=5))"
      ],
      "metadata": {
        "colab": {
          "base_uri": "https://localhost:8080/"
        },
        "id": "Sv9Mpu2eobdp",
        "outputId": "63163ac7-6b07-4b59-a713-d40e5c75c7fd"
      },
      "execution_count": null,
      "outputs": [
        {
          "output_type": "stream",
          "name": "stdout",
          "text": [
            "Validacao cruzada - porcentagem\n",
            "[0.85 0.95 0.9  0.95 1.  ]\n"
          ]
        }
      ]
    },
    {
      "cell_type": "markdown",
      "source": [
        "Avalia o modelo usando validação cruzada, dividindo os dados em 5 dobras e cada uma é usada como teste."
      ],
      "metadata": {
        "id": "YcVSFBPuu8FS"
      }
    },
    {
      "cell_type": "code",
      "source": [
        "#matriz confusão\n",
        "cm = confusion_matrix(y_test, result, labels=[0,1,2])\n",
        "disp = ConfusionMatrixDisplay(confusion_matrix=cm)\n",
        "disp.plot()\n",
        "plt.show()"
      ],
      "metadata": {
        "colab": {
          "base_uri": "https://localhost:8080/",
          "height": 455
        },
        "id": "mt2c4P5tl7zn",
        "outputId": "645ea1ec-8541-4949-8e52-7e7265848c38"
      },
      "execution_count": null,
      "outputs": [
        {
          "output_type": "display_data",
          "data": {
            "text/plain": [
              "<Figure size 640x480 with 2 Axes>"
            ],
            "image/png": "[encoded data removed]"
          },
          "metadata": {}
        }
      ]
    },
    {
      "cell_type": "markdown",
      "source": [
        "Aqui é utilizado o sklearn para calcular a matriz confusão.\n",
        "A matriz de confusão é uma tabela para descrever o desempenho de um modelo"
      ],
      "metadata": {
        "id": "DNYInsAf6o8Y"
      }
    },
    {
      "cell_type": "code",
      "source": [
        "\n",
        "print(\"Metricas gerais\")\n",
        "print(classification_report(y_test, result))\n"
      ],
      "metadata": {
        "colab": {
          "base_uri": "https://localhost:8080/"
        },
        "id": "74IZld58kv8C",
        "outputId": "f85e5fbb-2d92-419e-afed-c2059a7e67f1"
      },
      "execution_count": null,
      "outputs": [
        {
          "output_type": "stream",
          "name": "stdout",
          "text": [
            "Metricas gerais\n",
            "              precision    recall  f1-score   support\n",
            "\n",
            "           0       1.00      1.00      1.00        18\n",
            "           1       0.94      1.00      0.97        15\n",
            "           2       1.00      0.94      0.97        17\n",
            "\n",
            "    accuracy                           0.98        50\n",
            "   macro avg       0.98      0.98      0.98        50\n",
            "weighted avg       0.98      0.98      0.98        50\n",
            "\n"
          ]
        }
      ]
    },
    {
      "cell_type": "markdown",
      "source": [
        "Precison: a precisão mede a precisão do modelo ao prever positivos.\n",
        "Recall: o recall mede a capacidade do modelo de encontrar todas as instâncias positivas.\n",
        "f1-score: Ele fornece um equilíbrio entre precisão e recall, sendo útil quando as classes estão desbalanceadas.\n",
        "accuracy: A acurácia é a proporção de todas as previsões corretas em relação ao número total de amostras. É uma medida geral da precisão do modelo.\n",
        "macro avg: A média macro é a média das métricas (precisão, recall e F1-score) calculadas para cada classe individualmente.\n",
        "weighted avg: A média ponderada é a média das métricas, onde cada classe é ponderada pelo seu suporte (número de ocorrências reais da classe). É útil quando você tem classes desbalanceadas e deseja dar mais peso às classes com mais exemplos."
      ],
      "metadata": {
        "id": "cwsEgg6U8Ps2"
      }
    },
    {
      "cell_type": "code",
      "source": [],
      "metadata": {
        "id": "zVriMxeW8Qee"
      },
      "execution_count": null,
      "outputs": []
    }
  ]
}